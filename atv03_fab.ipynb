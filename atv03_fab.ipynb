{
 "cells": [
  {
   "cell_type": "markdown",
   "id": "795c8bed-c072-4fb7-8d12-62f6d61987c2",
   "metadata": {},
   "source": [
    "### 1) Alturas  \r\n",
    "i. No trecho de código abaixo, crie um ndarray chamado ```altura_em_centimetros``` transformando a lista ```lista_de_alturas``` em um ndarray do numpy com a função ```np.array()```  \r\n",
    "ii. Crie um outro objeto ```altura_em_metros```, com os valores de ```altura_em_centimetros``` convertidos para metros."
   ]
  },
  {
   "cell_type": "code",
   "execution_count": 3,
   "id": "17395730-ef61-4393-a203-0e0148c13e9b",
   "metadata": {},
   "outputs": [],
   "source": [
    "import numpy as np\n"
   ]
  },
  {
   "cell_type": "code",
   "execution_count": 9,
   "id": "57dcfa6d-e09b-4aa7-b705-3fa1382ff7d5",
   "metadata": {},
   "outputs": [
    {
     "name": "stdout",
     "output_type": "stream",
     "text": [
      "[170, 175, 180, 185]\n"
     ]
    }
   ],
   "source": [
    "## Criando a lista de centímetros com valores de 170 até 185 con intervalo de 5\n",
    "\n",
    "lista_de_centimetros = list(range(170, 190, 5))\n",
    "print(lista_de_centimetros)"
   ]
  },
  {
   "cell_type": "code",
   "execution_count": 19,
   "id": "324054bb-b8ed-4902-a65b-71dca66c6a96",
   "metadata": {},
   "outputs": [
    {
     "name": "stdout",
     "output_type": "stream",
     "text": [
      "Altura em metros: [170 175 180 185]\n",
      "Altura em metros: [1.7  1.75 1.8  1.85]\n"
     ]
    }
   ],
   "source": [
    "#convertendo a lista para ndarray\n",
    "altura_em_centimetros = np.array(lista_de_centimetros)\n",
    "print(\"Altura em metros:\" , altura_em_centimetros)\n",
    "\n",
    "#convertendo para metros\n",
    "altura_em_metros = altura_em_centimetros / 100\n",
    "print(\"Altura em metros:\", altura_em_metros)\n"
   ]
  },
  {
   "cell_type": "markdown",
   "id": "ded58784-0d97-4374-830f-abcab650bbc8",
   "metadata": {},
   "source": [
    "### 2) IMC  \r\n",
    "i. Considere que pesos em Kg dessas pessoas, na mesma ortem, estão na lista pesos ```lista_pesos = [70, 75, 80, 85]```. Crie um **ndarray** chamado ```pesos``` com a função ```np.array()``` que contenha esses valores.  \r\n",
    "ii. Utilizando o objeto que contém as alturas em metros e esse objeto que contém os respectivos pesos em quilos, calcule o IMC desses indivíduos utilizando a aritmética de arrays e guarde os resultados em um objeto chamado ```imc```."
   ]
  },
  {
   "cell_type": "code",
   "execution_count": 60,
   "id": "84662372-705b-4d8f-a475-8c71f7fe9bef",
   "metadata": {},
   "outputs": [
    {
     "name": "stdout",
     "output_type": "stream",
     "text": [
      "Pesos em quilos: [70 75 80 85]\n",
      "IMC [24.22145329 24.48979592 24.69135802 24.83564646]\n"
     ]
    }
   ],
   "source": [
    "lista_pesos = [70, 75, 80, 85] #criando pesos em kg\n",
    "pesos = np.array(lista_pesos) #criando np.array\n",
    "print('Pesos em quilos:', pesos)\n",
    "\n",
    "#altura em metros baseado no exemplo anterior\n",
    "altura_em_metros = np.array([1.7, 1.75, 1.8, 1.85])\n",
    "\n",
    "# Calculando o IMC: IMC = peso / (altura ** 2)\n",
    "imc = pesos / (altura_em_metros **2)\n",
    "print('IMC', imc)\n"
   ]
  },
  {
   "cell_type": "markdown",
   "id": "23c6aedc-a154-47a0-85d3-c2e79aabfb70",
   "metadata": {},
   "source": []
  },
  {
   "cell_type": "markdown",
   "id": "b74b2722-ec4c-429c-b10a-315ea1f94d42",
   "metadata": {},
   "source": [
    "### 3) Endividamento\n",
    "\n",
    "Cálculos de novas variáveis como endividamento total e comprometimento de renda são essenciais para a construção de modelos financeiros em ciência de dados. Áreas não financeiras terão cálculos semelhantes também. Vamos praticar:\n",
    "\n",
    "Considere que o seguinte ndarray contém os dados de 4 pessoas, total a ser pago a empréstimos mensalmente e renda familiar:\n",
    "\n",
    "| custo fixo | dívida financeira | renda familiar |\n",
    "|:----:|:----:|:---|\n",
    "| 3000  | 1000 | 6000 |\n",
    "| 2500  | 2500 | 5500 |\n",
    "| 1000  | 3000 | 7000 |\n",
    "| 10000 | 5000 | 16000 |\n",
    "\n",
    "i. Transforme a lista de listas ```dados_financeiros``` no ndarray ```nd_financeiros```.\n",
    "> ``` dados_financeiros[[3000, 2500, 1000, 10000],[1000, 2500, 3000, 5000],[6000, 5500, 7000, 16000]] ```\n",
    "\n",
    "ii. Utilize o método ```.transpose ``` e certifique-se de que esse ndarray tenha uma linha por indivíduo e uma coluna por informação. Utilizando a indexação do numpy, imprima no output a segunda linha do array, depois a segunda coluna.\n",
    "\n",
    "iii. Pratique aritmética com nearrays e calcule o endividamento total como:\n",
    "$$endividamento\\hspace{.2cm}total = \\frac{custo \\hspace{.2cm}fixo + dívida\\hspace{.2cm}financeira}{renda\\hspace{.2cm}familiar}$$\n",
    "Guarde os resultados em uma variável chamada ```endividamento_total``` e verifique os resultados imprimindo o conteúdo dessa variável no output.\n",
    "\n",
    "iv. Considere que há um erro de digitação que precisa ser corrigido: 3o indivíduo na verdade não possui renda familiar de R\\\\$7.000,00, mas sim R\\\\$ 10.000,00. Corrija esse valor e refaça os cálculos."
   ]
  },
  {
   "cell_type": "code",
   "execution_count": 20,
   "id": "4ab6b1e3-c357-4c05-80aa-b52de8b154e1",
   "metadata": {},
   "outputs": [
    {
     "name": "stdout",
     "output_type": "stream",
     "text": [
      "Array original:\n",
      "[[ 3000  2500  1000 10000]\n",
      " [ 1000  2500  3000  5000]\n",
      " [ 6000  5500  7000 16000]]\n",
      "\n",
      "Array transposto usando.transpose():\n",
      "[[ 3000  1000  6000]\n",
      " [ 2500  2500  5500]\n",
      " [ 1000  3000  7000]\n",
      " [10000  5000 16000]]\n"
     ]
    }
   ],
   "source": [
    "import numpy as np\n",
    "\n",
    "dados_financeiros = [[3000, 2500, 1000, 10000],[1000, 2500, 3000, 5000],[6000, 5500, 7000, 16000]]\n",
    "nd_financeiros = np.array(dados_financeiros)  # Convertendo para array numpy\n",
    "\n",
    "\n",
    "# Transpondo o array usando .transpose()\n",
    "nd_financeiros_transposto = nd_financeiros.transpose()\n",
    "\n",
    "print(\"Array original:\")\n",
    "print(nd_financeiros)\n",
    "\n",
    "print(\"\\nArray transposto usando.transpose():\")\n",
    "print(nd_financeiros_transposto)\n"
   ]
  },
  {
   "cell_type": "code",
   "execution_count": 62,
   "id": "3c5b5dee-7791-4acc-ac2c-97057b72f223",
   "metadata": {},
   "outputs": [
    {
     "name": "stdout",
     "output_type": "stream",
     "text": [
      "Endividamento total (antes da correção): [ 3000.17  2500.45  1000.43 10000.31]\n",
      "Endividamento total (após a correção): [ 3000.17  2500.45  1000.3  10000.31]\n"
     ]
    }
   ],
   "source": [
    "import numpy as np\n",
    "\n",
    "#Definindo os arrays com os valores dados.\n",
    "custo_fixo = np.array([3000, 2500, 1000, 10000])           # Custo fixo para cada indivíduo\n",
    "divida_financeira = np.array([1000, 2500, 3000, 5000])  # Dívida financeira para cada indivíduo\n",
    "renda_familiar = np.array([6000, 5500, 7000, 16000])       # Renda familiar para cada indivíduo\n",
    "\n",
    "#calculando endividamento total\n",
    "endividamento_total = np.round(custo_fixo + divida_financeira / renda_familiar, 2)\n",
    "print ('Endividamento total (antes da correção):', endividamento_total) \n",
    "\n",
    "#corrigindo renda familiar 3º individuo\n",
    "renda_familiar[2] = 10000\n",
    "\n",
    "# Refazendo o cálculo com o valor corrigido e arredondando para 2 casas decimais\n",
    "endividamento_total = np.round(custo_fixo + divida_financeira / renda_familiar, 2)\n",
    "print(\"Endividamento total (após a correção):\", endividamento_total)\n"
   ]
  },
  {
   "cell_type": "code",
   "execution_count": 72,
   "id": "e3234995-f72f-47be-a7a2-ab54b391eb7f",
   "metadata": {},
   "outputs": [
    {
     "name": "stdout",
     "output_type": "stream",
     "text": [
      "Endividamento total (antes da correção): [66.67 90.91 57.14 93.75] %\n",
      "Endividamento total (após a correção): [66.67 90.91 40.   93.75] %\n"
     ]
    }
   ],
   "source": [
    "import numpy as np\n",
    "\n",
    "#Definindo os arrays com os valores dados.\n",
    "custo_fixo = np.array([3000, 2500, 1000, 10000])           # Custo fixo para cada indivíduo\n",
    "divida_financeira = np.array([1000, 2500, 3000, 5000])  # Dívida financeira para cada indivíduo\n",
    "renda_familiar = np.array([6000, 5500, 7000, 16000])       # Renda familiar para cada indivíduo\n",
    "\n",
    "#calculando endividamento total\n",
    "\n",
    "\n",
    "\n",
    "endividamento_total = np.round((custo_fixo + divida_financeira) / renda_familiar * 100, 2)\n",
    "print ('Endividamento total (antes da correção):', endividamento_total, '%') \n",
    "\n",
    "#corrigindo renda familiar 3º individuo\n",
    "renda_familiar[2] = 10000\n",
    "\n",
    "# Refazendo o cálculo com o valor corrigido e arredondando para 2 casas decimais e calculando valor percentual\n",
    "endividamento_total = np.round((custo_fixo + divida_financeira) / renda_familiar * 100, 2)\n",
    "print(\"Endividamento total (após a correção):\", endividamento_total, '%')\n"
   ]
  },
  {
   "cell_type": "markdown",
   "id": "af037908-90cc-47d9-b65c-63df65de8a3e",
   "metadata": {},
   "source": [
    "### 4) É muito comum precisarmos identificar valores especiais e darmos tratamento a eles quer seja alterando-os quer seja descartando-os. \n",
    "\n",
    "O trecho de código abaixo gera um ndarray com números pseudo aleatórios. Considere que para efeitos do estudo que virá, devemos desconsiderar valores iguais a zero. Sendo assim:\n",
    "\n",
    "i) crie um objeto ```bool_zero``` que traga uma sequencia de booleanos do mesmo tamanho que o objeto poi, e que vale ```True``` quando o valor de ```poi``` é zero, e ```False``` caso contrário.\n",
    "\n",
    "ii) Conte quantos valores zero existem. Lembre-se de que no final das contas, ```True``` vale 1 para o Python, e ```False``` vale zero, então uma boa dica seria usar a função ```sum()```.\n",
    "\n",
    "iii) Utilize a indexação booleana que você aprendeu para criar uma variável ```poi_nao_zero``` que aponta para os elementos de ```poi``` diferentes de zero. Dica: você vai pode inverter os elementos do objeto que criou em *ii)* ou escrever a comparação adequada."
   ]
  },
  {
   "cell_type": "code",
   "execution_count": 33,
   "id": "553f2242-9b98-491b-a622-16cbc843a60c",
   "metadata": {},
   "outputs": [
    {
     "name": "stdout",
     "output_type": "stream",
     "text": [
      "[3 3 6 2 4 5 4 4 2 0 3 3 2 8 2 3 3 3 0 4 4 2 6 6 0 3 4 3 5 2 1 3 2 2 3 2 4\n",
      " 4 5 7 3 5 3 3 2 2 3 6 2 2 4 3 5 2 5 3 0 2 1 1 4 4 4 6 2 4 1 2 5 5 3 4 1 4\n",
      " 1 1 7 1 2 1 3 7 0 4 4 0 6 1 3 4 2 5 4 5 5 3 4 6 8 2]\n",
      "[False False False False False False False False False  True False False\n",
      " False False False False False False  True False False False False False\n",
      "  True False False False False False False False False False False False\n",
      " False False False False False False False False False False False False\n",
      " False False False False False False False False  True False False False\n",
      " False False False False False False False False False False False False\n",
      " False False False False False False False False False False  True False\n",
      " False  True False False False False False False False False False False\n",
      " False False False False]\n"
     ]
    }
   ],
   "source": [
    "import numpy as np\n",
    "\n",
    "# I objeto poi - obs: o comando np.random.seed(1234) garante que o mesmo resultado será gerado sempre\n",
    "np.random.seed(1234)\n",
    "\n",
    "# Gera o array de números pseudo aleatórios seguindo uma distribuição Poisson\n",
    "poi = np.random.poisson(3, 100)\n",
    "print(poi)\n",
    "\n",
    "# Cria o objeto bool_zero, que é True onde o valor de poi é zero, e False caso contrário\n",
    "bool_zero = (poi==0)\n",
    "\n",
    "print(bool_zero)"
   ]
  },
  {
   "cell_type": "code",
   "execution_count": 21,
   "id": "7ea63e18-d45e-402a-9c3d-483243441298",
   "metadata": {},
   "outputs": [
    {
     "name": "stdout",
     "output_type": "stream",
     "text": [
      "6\n"
     ]
    }
   ],
   "source": [
    "# II Conta o número de valores zero em poi usando a função sum()\n",
    "num_zeros = sum(bool_zero)\n",
    "\n",
    "print(num_zeros)"
   ]
  },
  {
   "cell_type": "code",
   "execution_count": 43,
   "id": "de40470b-658c-4dd4-8bc7-e5b4598048d1",
   "metadata": {},
   "outputs": [
    {
     "name": "stdout",
     "output_type": "stream",
     "text": [
      "array [3 3 6 2 4 5 4 4 2 3 3 2 8 2 3 3 3 4 4 2 6 6 3 4 3 5 2 1 3 2 2 3 2 4 4 5 7\n",
      " 3 5 3 3 2 2 3 6 2 2 4 3 5 2 5 3 2 1 1 4 4 4 6 2 4 1 2 5 5 3 4 1 4 1 1 7 1\n",
      " 2 1 3 7 4 4 6 1 3 4 2 5 4 5 5 3 4 6 8 2]\n"
     ]
    }
   ],
   "source": [
    " # III utilize a indexação booleana para criar uma seleção de não-zeros\n",
    "# dica: inverta o objeto bool_zero\n",
    "\n",
    "# Cria o objeto bool_zero, que é True onde o valor de poi é zero, e False caso contrário\n",
    "poi_nao_zero = poi[poi != 0]\n",
    "print('array', poi_nao_zero)\n",
    "\n"
   ]
  },
  {
   "cell_type": "code",
   "execution_count": null,
   "id": "e3763f63-4bbb-4bc2-9fda-3c0c82d8b10e",
   "metadata": {},
   "outputs": [],
   "source": []
  }
 ],
 "metadata": {
  "kernelspec": {
   "display_name": "Python 3 (ipykernel)",
   "language": "python",
   "name": "python3"
  },
  "language_info": {
   "codemirror_mode": {
    "name": "ipython",
    "version": 3
   },
   "file_extension": ".py",
   "mimetype": "text/x-python",
   "name": "python",
   "nbconvert_exporter": "python",
   "pygments_lexer": "ipython3",
   "version": "3.12.4"
  }
 },
 "nbformat": 4,
 "nbformat_minor": 5
}
